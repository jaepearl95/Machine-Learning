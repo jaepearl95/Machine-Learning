{
 "cells": [
  {
   "cell_type": "code",
   "execution_count": 65,
   "metadata": {},
   "outputs": [],
   "source": [
    "# all imports and magic commands\n",
    "import numpy as np\n",
    "import pandas as pd\n",
    "import matplotlib.pyplot as plt\n",
    "from my_measures import BinaryClassificationPerformance\n",
    "from sklearn.feature_extraction.text import HashingVectorizer\n",
    "from sklearn.feature_extraction.text import TfidfTransformer\n",
    "from scipy.sparse import csr_matrix, hstack\n",
    "from sklearn.preprocessing import StandardScaler\n",
    "from sklearn.model_selection import train_test_split\n",
    "from sklearn.feature_extraction import FeatureHasher\n",
    "from sklearn.feature_extraction import DictVectorizer\n",
    "%matplotlib inline"
   ]
  },
  {
   "cell_type": "code",
   "execution_count": 93,
   "metadata": {},
   "outputs": [],
   "source": [
    "    fn='/Users/jeharrahpearl/machine-learning-2/ml/final_assignment_1/data/toxiccomments_train.csv'\n",
    "    toxic_data = pd.read_csv(fn)"
   ]
  },
  {
   "cell_type": "code",
   "execution_count": 114,
   "metadata": {},
   "outputs": [],
   "source": [
    "n_features = 10;\n",
    "\n",
    "def token_features(token):\n",
    "\n",
    "    print('Hi')\n",
    "#     if token.isdigit():\n",
    "#         yield \"numeric\"\n",
    "#         print(\"it's a number\")\n",
    "    if token[0].isupper():\n",
    "        yield \"uppercase_initial\"\n",
    "        print(\"upper case\")\n",
    "    if token.isupper():\n",
    "        yield \"all_uppercase\"     \n",
    "    else:\n",
    "        yield \"token={}\".format(token.lower())\n",
    "        yield \"token,pos={},{}\".format(token)\n",
    "        print('its lower')\n",
    "    yield \"pos={}\".format(part_of_speech)\n",
    "    \n",
    "\n",
    "\n",
    "\n"
   ]
  },
  {
   "cell_type": "code",
   "execution_count": 115,
   "metadata": {},
   "outputs": [
    {
     "data": {
      "text/plain": [
       "<generator object token_features at 0x136260250>"
      ]
     },
     "execution_count": 115,
     "metadata": {},
     "output_type": "execute_result"
    }
   ],
   "source": [
    "token_features('18 is a age')\n",
    "# raw_X = (token_features(tok) for tok in toxic_data['comment_text'])\n",
    "# hasher = FeatureHasher(input_type='string')\n",
    "# srX = Series.to_string(raw_X)\n",
    "# test = hasher.transform(raw_X)  \n",
    "# print(type(raw_X))"
   ]
  },
  {
   "cell_type": "code",
   "execution_count": 87,
   "metadata": {},
   "outputs": [
    {
     "name": "stdout",
     "output_type": "stream",
     "text": [
      "<class 'pandas.core.series.Series'>\n"
     ]
    }
   ],
   "source": [
    "toxic_data = pd.read_csv('/Users/jeharrahpearl/machine-learning-2/ml/final_assignment_1/data/toxiccomments_train.csv')\n",
    "print(type(toxic_data['comment_text']))\n",
    "\n"
   ]
  },
  {
   "cell_type": "code",
   "execution_count": null,
   "metadata": {},
   "outputs": [],
   "source": []
  },
  {
   "cell_type": "code",
   "execution_count": null,
   "metadata": {},
   "outputs": [],
   "source": []
  }
 ],
 "metadata": {
  "kernelspec": {
   "display_name": "Python 3",
   "language": "python",
   "name": "python3"
  },
  "language_info": {
   "codemirror_mode": {
    "name": "ipython",
    "version": 3
   },
   "file_extension": ".py",
   "mimetype": "text/x-python",
   "name": "python",
   "nbconvert_exporter": "python",
   "pygments_lexer": "ipython3",
   "version": "3.7.4"
  }
 },
 "nbformat": 4,
 "nbformat_minor": 2
}
